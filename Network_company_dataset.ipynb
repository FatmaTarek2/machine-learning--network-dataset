{
  "nbformat": 4,
  "nbformat_minor": 0,
  "metadata": {
    "colab": {
      "provenance": []
    },
    "kernelspec": {
      "name": "python3",
      "display_name": "Python 3"
    },
    "language_info": {
      "name": "python"
    }
  },
  "cells": [
    {
      "cell_type": "code",
      "execution_count": null,
      "metadata": {
        "id": "kxzY-V_XTsUj"
      },
      "outputs": [],
      "source": [
        "import pandas as pd\n",
        "import matplotlib.pyplot as plt\n",
        "import seaborn as sns\n",
        "import numpy as np\n",
        "import scipy.stats as stats"
      ]
    },
    {
      "cell_type": "code",
      "source": [
        "df= pd.read_csv(\"/content/Dataset_Network .csv\")\n",
        "df"
      ],
      "metadata": {
        "colab": {
          "base_uri": "https://localhost:8080/",
          "height": 600
        },
        "id": "yVbqmNZCUTKl",
        "outputId": "feb3c60e-c623-413f-f43e-951715793ba5"
      },
      "execution_count": null,
      "outputs": [
        {
          "output_type": "execute_result",
          "data": {
            "text/plain": [
              "        Unique ID LABEL          REG  MCK   LCR    LU    PP USER_NETWORK  \\\n",
              "0               1     d        DELTA   11  0.00    57  0.00           4G   \n",
              "1               2     p  UPPER EGYPT    0  0.01   288  0.02           2G   \n",
              "2               3     d   ALEXANDRIA   16  0.08    87  0.00           4G   \n",
              "3               4     d        DELTA    0  0.35   990  0.01          NaN   \n",
              "4               5     p        CANAL    2  0.04   182  0.30           4G   \n",
              "...           ...   ...          ...  ...   ...   ...   ...          ...   \n",
              "312665     312661     d         GIZA    0  0.18   290  0.00           4G   \n",
              "312666     312662     d        DELTA   75  0.07  1240  0.01           3G   \n",
              "312667     312663     d        DELTA  179  0.78  3370  0.00          NaN   \n",
              "312668     312664     d        DELTA   78  0.04  1813  0.54          NaN   \n",
              "312669     312665     d        CAIRO  104  0.20   725  0.08          NaN   \n",
              "\n",
              "                                              MANUFACTURE HS_VOLTE  CUST_CAT  \\\n",
              "0                                                 Samsung        Y      Core   \n",
              "1                                           HMD Global Oy        N      Core   \n",
              "2                            Xiaomi Communications Co Ltd        Y      Core   \n",
              "3                                                     NaN      NaN  Med-High   \n",
              "4                              INFINIX TECHNOLOGY LIMITED        N   Med-Low   \n",
              "...                                                   ...      ...       ...   \n",
              "312665  Realme Chongqing Mobile Telecommunications Cor...        N       NaN   \n",
              "312666                                      Samsung Korea        N       NaN   \n",
              "312667                                                NaN      NaN       NaN   \n",
              "312668                                                NaN      NaN       NaN   \n",
              "312669                                                NaN      NaN       NaN   \n",
              "\n",
              "       SIM_TYPE PROV_4G PROV_VOLTE   D2G    D3G     D4G     V2G     V3G   V4G  \n",
              "0             Y       Y          Y  0.00   6.58   93.42    0.00  100.00  0.00  \n",
              "1             Y       Y          Y  0.00   0.00    0.00  100.00    0.00  0.00  \n",
              "2             Y       Y          Y  0.00   0.00    0.00    4.88   95.12  0.00  \n",
              "3             N       N          N  0.82  99.18    0.00   34.29   65.71  0.00  \n",
              "4             Y       Y          Y  0.00   0.03   99.97    0.56   99.44  0.00  \n",
              "...         ...     ...        ...   ...    ...     ...     ...     ...   ...  \n",
              "312665      NaN       N          N  0.00   0.00  100.00   19.54   80.46  0.00  \n",
              "312666      NaN       N          N  0.23  99.77    0.00    7.61   92.39  0.00  \n",
              "312667      NaN       N          N  3.47  27.55   68.98   23.14   76.86  0.00  \n",
              "312668      NaN       N          N  1.00  24.22   74.78    8.53   85.82  5.65  \n",
              "312669      NaN       N          N  0.00  11.60   88.40    6.32   93.68  0.00  \n",
              "\n",
              "[312670 rows x 20 columns]"
            ],
            "text/html": [
              "\n",
              "  <div id=\"df-96836ad6-b03c-4953-b392-dc6b6829d3d8\" class=\"colab-df-container\">\n",
              "    <div>\n",
              "<style scoped>\n",
              "    .dataframe tbody tr th:only-of-type {\n",
              "        vertical-align: middle;\n",
              "    }\n",
              "\n",
              "    .dataframe tbody tr th {\n",
              "        vertical-align: top;\n",
              "    }\n",
              "\n",
              "    .dataframe thead th {\n",
              "        text-align: right;\n",
              "    }\n",
              "</style>\n",
              "<table border=\"1\" class=\"dataframe\">\n",
              "  <thead>\n",
              "    <tr style=\"text-align: right;\">\n",
              "      <th></th>\n",
              "      <th>Unique ID</th>\n",
              "      <th>LABEL</th>\n",
              "      <th>REG</th>\n",
              "      <th>MCK</th>\n",
              "      <th>LCR</th>\n",
              "      <th>LU</th>\n",
              "      <th>PP</th>\n",
              "      <th>USER_NETWORK</th>\n",
              "      <th>MANUFACTURE</th>\n",
              "      <th>HS_VOLTE</th>\n",
              "      <th>CUST_CAT</th>\n",
              "      <th>SIM_TYPE</th>\n",
              "      <th>PROV_4G</th>\n",
              "      <th>PROV_VOLTE</th>\n",
              "      <th>D2G</th>\n",
              "      <th>D3G</th>\n",
              "      <th>D4G</th>\n",
              "      <th>V2G</th>\n",
              "      <th>V3G</th>\n",
              "      <th>V4G</th>\n",
              "    </tr>\n",
              "  </thead>\n",
              "  <tbody>\n",
              "    <tr>\n",
              "      <th>0</th>\n",
              "      <td>1</td>\n",
              "      <td>d</td>\n",
              "      <td>DELTA</td>\n",
              "      <td>11</td>\n",
              "      <td>0.00</td>\n",
              "      <td>57</td>\n",
              "      <td>0.00</td>\n",
              "      <td>4G</td>\n",
              "      <td>Samsung</td>\n",
              "      <td>Y</td>\n",
              "      <td>Core</td>\n",
              "      <td>Y</td>\n",
              "      <td>Y</td>\n",
              "      <td>Y</td>\n",
              "      <td>0.00</td>\n",
              "      <td>6.58</td>\n",
              "      <td>93.42</td>\n",
              "      <td>0.00</td>\n",
              "      <td>100.00</td>\n",
              "      <td>0.00</td>\n",
              "    </tr>\n",
              "    <tr>\n",
              "      <th>1</th>\n",
              "      <td>2</td>\n",
              "      <td>p</td>\n",
              "      <td>UPPER EGYPT</td>\n",
              "      <td>0</td>\n",
              "      <td>0.01</td>\n",
              "      <td>288</td>\n",
              "      <td>0.02</td>\n",
              "      <td>2G</td>\n",
              "      <td>HMD Global Oy</td>\n",
              "      <td>N</td>\n",
              "      <td>Core</td>\n",
              "      <td>Y</td>\n",
              "      <td>Y</td>\n",
              "      <td>Y</td>\n",
              "      <td>0.00</td>\n",
              "      <td>0.00</td>\n",
              "      <td>0.00</td>\n",
              "      <td>100.00</td>\n",
              "      <td>0.00</td>\n",
              "      <td>0.00</td>\n",
              "    </tr>\n",
              "    <tr>\n",
              "      <th>2</th>\n",
              "      <td>3</td>\n",
              "      <td>d</td>\n",
              "      <td>ALEXANDRIA</td>\n",
              "      <td>16</td>\n",
              "      <td>0.08</td>\n",
              "      <td>87</td>\n",
              "      <td>0.00</td>\n",
              "      <td>4G</td>\n",
              "      <td>Xiaomi Communications Co Ltd</td>\n",
              "      <td>Y</td>\n",
              "      <td>Core</td>\n",
              "      <td>Y</td>\n",
              "      <td>Y</td>\n",
              "      <td>Y</td>\n",
              "      <td>0.00</td>\n",
              "      <td>0.00</td>\n",
              "      <td>0.00</td>\n",
              "      <td>4.88</td>\n",
              "      <td>95.12</td>\n",
              "      <td>0.00</td>\n",
              "    </tr>\n",
              "    <tr>\n",
              "      <th>3</th>\n",
              "      <td>4</td>\n",
              "      <td>d</td>\n",
              "      <td>DELTA</td>\n",
              "      <td>0</td>\n",
              "      <td>0.35</td>\n",
              "      <td>990</td>\n",
              "      <td>0.01</td>\n",
              "      <td>NaN</td>\n",
              "      <td>NaN</td>\n",
              "      <td>NaN</td>\n",
              "      <td>Med-High</td>\n",
              "      <td>N</td>\n",
              "      <td>N</td>\n",
              "      <td>N</td>\n",
              "      <td>0.82</td>\n",
              "      <td>99.18</td>\n",
              "      <td>0.00</td>\n",
              "      <td>34.29</td>\n",
              "      <td>65.71</td>\n",
              "      <td>0.00</td>\n",
              "    </tr>\n",
              "    <tr>\n",
              "      <th>4</th>\n",
              "      <td>5</td>\n",
              "      <td>p</td>\n",
              "      <td>CANAL</td>\n",
              "      <td>2</td>\n",
              "      <td>0.04</td>\n",
              "      <td>182</td>\n",
              "      <td>0.30</td>\n",
              "      <td>4G</td>\n",
              "      <td>INFINIX TECHNOLOGY LIMITED</td>\n",
              "      <td>N</td>\n",
              "      <td>Med-Low</td>\n",
              "      <td>Y</td>\n",
              "      <td>Y</td>\n",
              "      <td>Y</td>\n",
              "      <td>0.00</td>\n",
              "      <td>0.03</td>\n",
              "      <td>99.97</td>\n",
              "      <td>0.56</td>\n",
              "      <td>99.44</td>\n",
              "      <td>0.00</td>\n",
              "    </tr>\n",
              "    <tr>\n",
              "      <th>...</th>\n",
              "      <td>...</td>\n",
              "      <td>...</td>\n",
              "      <td>...</td>\n",
              "      <td>...</td>\n",
              "      <td>...</td>\n",
              "      <td>...</td>\n",
              "      <td>...</td>\n",
              "      <td>...</td>\n",
              "      <td>...</td>\n",
              "      <td>...</td>\n",
              "      <td>...</td>\n",
              "      <td>...</td>\n",
              "      <td>...</td>\n",
              "      <td>...</td>\n",
              "      <td>...</td>\n",
              "      <td>...</td>\n",
              "      <td>...</td>\n",
              "      <td>...</td>\n",
              "      <td>...</td>\n",
              "      <td>...</td>\n",
              "    </tr>\n",
              "    <tr>\n",
              "      <th>312665</th>\n",
              "      <td>312661</td>\n",
              "      <td>d</td>\n",
              "      <td>GIZA</td>\n",
              "      <td>0</td>\n",
              "      <td>0.18</td>\n",
              "      <td>290</td>\n",
              "      <td>0.00</td>\n",
              "      <td>4G</td>\n",
              "      <td>Realme Chongqing Mobile Telecommunications Cor...</td>\n",
              "      <td>N</td>\n",
              "      <td>NaN</td>\n",
              "      <td>NaN</td>\n",
              "      <td>N</td>\n",
              "      <td>N</td>\n",
              "      <td>0.00</td>\n",
              "      <td>0.00</td>\n",
              "      <td>100.00</td>\n",
              "      <td>19.54</td>\n",
              "      <td>80.46</td>\n",
              "      <td>0.00</td>\n",
              "    </tr>\n",
              "    <tr>\n",
              "      <th>312666</th>\n",
              "      <td>312662</td>\n",
              "      <td>d</td>\n",
              "      <td>DELTA</td>\n",
              "      <td>75</td>\n",
              "      <td>0.07</td>\n",
              "      <td>1240</td>\n",
              "      <td>0.01</td>\n",
              "      <td>3G</td>\n",
              "      <td>Samsung Korea</td>\n",
              "      <td>N</td>\n",
              "      <td>NaN</td>\n",
              "      <td>NaN</td>\n",
              "      <td>N</td>\n",
              "      <td>N</td>\n",
              "      <td>0.23</td>\n",
              "      <td>99.77</td>\n",
              "      <td>0.00</td>\n",
              "      <td>7.61</td>\n",
              "      <td>92.39</td>\n",
              "      <td>0.00</td>\n",
              "    </tr>\n",
              "    <tr>\n",
              "      <th>312667</th>\n",
              "      <td>312663</td>\n",
              "      <td>d</td>\n",
              "      <td>DELTA</td>\n",
              "      <td>179</td>\n",
              "      <td>0.78</td>\n",
              "      <td>3370</td>\n",
              "      <td>0.00</td>\n",
              "      <td>NaN</td>\n",
              "      <td>NaN</td>\n",
              "      <td>NaN</td>\n",
              "      <td>NaN</td>\n",
              "      <td>NaN</td>\n",
              "      <td>N</td>\n",
              "      <td>N</td>\n",
              "      <td>3.47</td>\n",
              "      <td>27.55</td>\n",
              "      <td>68.98</td>\n",
              "      <td>23.14</td>\n",
              "      <td>76.86</td>\n",
              "      <td>0.00</td>\n",
              "    </tr>\n",
              "    <tr>\n",
              "      <th>312668</th>\n",
              "      <td>312664</td>\n",
              "      <td>d</td>\n",
              "      <td>DELTA</td>\n",
              "      <td>78</td>\n",
              "      <td>0.04</td>\n",
              "      <td>1813</td>\n",
              "      <td>0.54</td>\n",
              "      <td>NaN</td>\n",
              "      <td>NaN</td>\n",
              "      <td>NaN</td>\n",
              "      <td>NaN</td>\n",
              "      <td>NaN</td>\n",
              "      <td>N</td>\n",
              "      <td>N</td>\n",
              "      <td>1.00</td>\n",
              "      <td>24.22</td>\n",
              "      <td>74.78</td>\n",
              "      <td>8.53</td>\n",
              "      <td>85.82</td>\n",
              "      <td>5.65</td>\n",
              "    </tr>\n",
              "    <tr>\n",
              "      <th>312669</th>\n",
              "      <td>312665</td>\n",
              "      <td>d</td>\n",
              "      <td>CAIRO</td>\n",
              "      <td>104</td>\n",
              "      <td>0.20</td>\n",
              "      <td>725</td>\n",
              "      <td>0.08</td>\n",
              "      <td>NaN</td>\n",
              "      <td>NaN</td>\n",
              "      <td>NaN</td>\n",
              "      <td>NaN</td>\n",
              "      <td>NaN</td>\n",
              "      <td>N</td>\n",
              "      <td>N</td>\n",
              "      <td>0.00</td>\n",
              "      <td>11.60</td>\n",
              "      <td>88.40</td>\n",
              "      <td>6.32</td>\n",
              "      <td>93.68</td>\n",
              "      <td>0.00</td>\n",
              "    </tr>\n",
              "  </tbody>\n",
              "</table>\n",
              "<p>312670 rows × 20 columns</p>\n",
              "</div>\n",
              "    <div class=\"colab-df-buttons\">\n",
              "\n",
              "  <div class=\"colab-df-container\">\n",
              "    <button class=\"colab-df-convert\" onclick=\"convertToInteractive('df-96836ad6-b03c-4953-b392-dc6b6829d3d8')\"\n",
              "            title=\"Convert this dataframe to an interactive table.\"\n",
              "            style=\"display:none;\">\n",
              "\n",
              "  <svg xmlns=\"http://www.w3.org/2000/svg\" height=\"24px\" viewBox=\"0 -960 960 960\">\n",
              "    <path d=\"M120-120v-720h720v720H120Zm60-500h600v-160H180v160Zm220 220h160v-160H400v160Zm0 220h160v-160H400v160ZM180-400h160v-160H180v160Zm440 0h160v-160H620v160ZM180-180h160v-160H180v160Zm440 0h160v-160H620v160Z\"/>\n",
              "  </svg>\n",
              "    </button>\n",
              "\n",
              "  <style>\n",
              "    .colab-df-container {\n",
              "      display:flex;\n",
              "      gap: 12px;\n",
              "    }\n",
              "\n",
              "    .colab-df-convert {\n",
              "      background-color: #E8F0FE;\n",
              "      border: none;\n",
              "      border-radius: 50%;\n",
              "      cursor: pointer;\n",
              "      display: none;\n",
              "      fill: #1967D2;\n",
              "      height: 32px;\n",
              "      padding: 0 0 0 0;\n",
              "      width: 32px;\n",
              "    }\n",
              "\n",
              "    .colab-df-convert:hover {\n",
              "      background-color: #E2EBFA;\n",
              "      box-shadow: 0px 1px 2px rgba(60, 64, 67, 0.3), 0px 1px 3px 1px rgba(60, 64, 67, 0.15);\n",
              "      fill: #174EA6;\n",
              "    }\n",
              "\n",
              "    .colab-df-buttons div {\n",
              "      margin-bottom: 4px;\n",
              "    }\n",
              "\n",
              "    [theme=dark] .colab-df-convert {\n",
              "      background-color: #3B4455;\n",
              "      fill: #D2E3FC;\n",
              "    }\n",
              "\n",
              "    [theme=dark] .colab-df-convert:hover {\n",
              "      background-color: #434B5C;\n",
              "      box-shadow: 0px 1px 3px 1px rgba(0, 0, 0, 0.15);\n",
              "      filter: drop-shadow(0px 1px 2px rgba(0, 0, 0, 0.3));\n",
              "      fill: #FFFFFF;\n",
              "    }\n",
              "  </style>\n",
              "\n",
              "    <script>\n",
              "      const buttonEl =\n",
              "        document.querySelector('#df-96836ad6-b03c-4953-b392-dc6b6829d3d8 button.colab-df-convert');\n",
              "      buttonEl.style.display =\n",
              "        google.colab.kernel.accessAllowed ? 'block' : 'none';\n",
              "\n",
              "      async function convertToInteractive(key) {\n",
              "        const element = document.querySelector('#df-96836ad6-b03c-4953-b392-dc6b6829d3d8');\n",
              "        const dataTable =\n",
              "          await google.colab.kernel.invokeFunction('convertToInteractive',\n",
              "                                                    [key], {});\n",
              "        if (!dataTable) return;\n",
              "\n",
              "        const docLinkHtml = 'Like what you see? Visit the ' +\n",
              "          '<a target=\"_blank\" href=https://colab.research.google.com/notebooks/data_table.ipynb>data table notebook</a>'\n",
              "          + ' to learn more about interactive tables.';\n",
              "        element.innerHTML = '';\n",
              "        dataTable['output_type'] = 'display_data';\n",
              "        await google.colab.output.renderOutput(dataTable, element);\n",
              "        const docLink = document.createElement('div');\n",
              "        docLink.innerHTML = docLinkHtml;\n",
              "        element.appendChild(docLink);\n",
              "      }\n",
              "    </script>\n",
              "  </div>\n",
              "\n",
              "\n",
              "<div id=\"df-f3d5b93b-f909-492b-a891-87614793fd97\">\n",
              "  <button class=\"colab-df-quickchart\" onclick=\"quickchart('df-f3d5b93b-f909-492b-a891-87614793fd97')\"\n",
              "            title=\"Suggest charts.\"\n",
              "            style=\"display:none;\">\n",
              "\n",
              "<svg xmlns=\"http://www.w3.org/2000/svg\" height=\"24px\"viewBox=\"0 0 24 24\"\n",
              "     width=\"24px\">\n",
              "    <g>\n",
              "        <path d=\"M19 3H5c-1.1 0-2 .9-2 2v14c0 1.1.9 2 2 2h14c1.1 0 2-.9 2-2V5c0-1.1-.9-2-2-2zM9 17H7v-7h2v7zm4 0h-2V7h2v10zm4 0h-2v-4h2v4z\"/>\n",
              "    </g>\n",
              "</svg>\n",
              "  </button>\n",
              "\n",
              "<style>\n",
              "  .colab-df-quickchart {\n",
              "    background-color: #E8F0FE;\n",
              "    border: none;\n",
              "    border-radius: 50%;\n",
              "    cursor: pointer;\n",
              "    display: none;\n",
              "    fill: #1967D2;\n",
              "    height: 32px;\n",
              "    padding: 0 0 0 0;\n",
              "    width: 32px;\n",
              "  }\n",
              "\n",
              "  .colab-df-quickchart:hover {\n",
              "    background-color: #E2EBFA;\n",
              "    box-shadow: 0px 1px 2px rgba(60, 64, 67, 0.3), 0px 1px 3px 1px rgba(60, 64, 67, 0.15);\n",
              "    fill: #174EA6;\n",
              "  }\n",
              "\n",
              "  [theme=dark] .colab-df-quickchart {\n",
              "    background-color: #3B4455;\n",
              "    fill: #D2E3FC;\n",
              "  }\n",
              "\n",
              "  [theme=dark] .colab-df-quickchart:hover {\n",
              "    background-color: #434B5C;\n",
              "    box-shadow: 0px 1px 3px 1px rgba(0, 0, 0, 0.15);\n",
              "    filter: drop-shadow(0px 1px 2px rgba(0, 0, 0, 0.3));\n",
              "    fill: #FFFFFF;\n",
              "  }\n",
              "</style>\n",
              "\n",
              "  <script>\n",
              "    async function quickchart(key) {\n",
              "      const charts = await google.colab.kernel.invokeFunction(\n",
              "          'suggestCharts', [key], {});\n",
              "    }\n",
              "    (() => {\n",
              "      let quickchartButtonEl =\n",
              "        document.querySelector('#df-f3d5b93b-f909-492b-a891-87614793fd97 button');\n",
              "      quickchartButtonEl.style.display =\n",
              "        google.colab.kernel.accessAllowed ? 'block' : 'none';\n",
              "    })();\n",
              "  </script>\n",
              "</div>\n",
              "    </div>\n",
              "  </div>\n"
            ]
          },
          "metadata": {},
          "execution_count": 2
        }
      ]
    },
    {
      "cell_type": "code",
      "source": [
        "df.info()"
      ],
      "metadata": {
        "colab": {
          "base_uri": "https://localhost:8080/"
        },
        "id": "d_9mJQXAUw5a",
        "outputId": "fb03f97a-994a-4e3f-ed4c-9b0bc1e73a9a"
      },
      "execution_count": null,
      "outputs": [
        {
          "output_type": "stream",
          "name": "stdout",
          "text": [
            "<class 'pandas.core.frame.DataFrame'>\n",
            "RangeIndex: 312670 entries, 0 to 312669\n",
            "Data columns (total 20 columns):\n",
            " #   Column        Non-Null Count   Dtype  \n",
            "---  ------        --------------   -----  \n",
            " 0   Unique ID     312670 non-null  int64  \n",
            " 1   LABEL         312670 non-null  object \n",
            " 2   REG           312670 non-null  object \n",
            " 3   MCK           312670 non-null  int64  \n",
            " 4   LCR           312670 non-null  float64\n",
            " 5   LU            312670 non-null  int64  \n",
            " 6   PP            312670 non-null  float64\n",
            " 7   USER_NETWORK  279655 non-null  object \n",
            " 8   MANUFACTURE   279655 non-null  object \n",
            " 9   HS_VOLTE      269438 non-null  object \n",
            " 10  CUST_CAT      280918 non-null  object \n",
            " 11  SIM_TYPE      307369 non-null  object \n",
            " 12  PROV_4G       312670 non-null  object \n",
            " 13  PROV_VOLTE    312670 non-null  object \n",
            " 14  D2G           312670 non-null  float64\n",
            " 15  D3G           312670 non-null  float64\n",
            " 16  D4G           312670 non-null  float64\n",
            " 17  V2G           312670 non-null  float64\n",
            " 18  V3G           312670 non-null  float64\n",
            " 19  V4G           312670 non-null  float64\n",
            "dtypes: float64(8), int64(3), object(9)\n",
            "memory usage: 47.7+ MB\n"
          ]
        }
      ]
    },
    {
      "cell_type": "code",
      "source": [
        "df.isnull().sum()"
      ],
      "metadata": {
        "colab": {
          "base_uri": "https://localhost:8080/"
        },
        "id": "fa8cE1S6U4zv",
        "outputId": "db6e9fec-83da-40e3-a1ad-f3b7815c9aaa"
      },
      "execution_count": null,
      "outputs": [
        {
          "output_type": "execute_result",
          "data": {
            "text/plain": [
              "Unique ID           0\n",
              "LABEL               0\n",
              "REG                 0\n",
              "MCK                 0\n",
              "LCR                 0\n",
              "LU                  0\n",
              "PP                  0\n",
              "USER_NETWORK    33015\n",
              "MANUFACTURE     33015\n",
              "HS_VOLTE        43232\n",
              "CUST_CAT        31752\n",
              "SIM_TYPE         5301\n",
              "PROV_4G             0\n",
              "PROV_VOLTE          0\n",
              "D2G                 0\n",
              "D3G                 0\n",
              "D4G                 0\n",
              "V2G                 0\n",
              "V3G                 0\n",
              "V4G                 0\n",
              "dtype: int64"
            ]
          },
          "metadata": {},
          "execution_count": 4
        }
      ]
    },
    {
      "cell_type": "code",
      "source": [
        "df.plot(x='LABEL' , y='REG', kind='scatter')\n",
        "plt.show()"
      ],
      "metadata": {
        "colab": {
          "base_uri": "https://localhost:8080/",
          "height": 449
        },
        "id": "NFrHCuS9VZZJ",
        "outputId": "c93ea6a4-9f00-44c8-f30d-d48bb02e285a"
      },
      "execution_count": null,
      "outputs": [
        {
          "output_type": "display_data",
          "data": {
            "text/plain": [
              "<Figure size 640x480 with 1 Axes>"
            ],
            "image/png": "[encoded data removed]"
          },
          "metadata": {}
        }
      ]
    },
    {
      "cell_type": "code",
      "source": [
        "df.plot(x='PP' , y='D3G', kind='scatter')\n",
        "plt.show()"
      ],
      "metadata": {
        "colab": {
          "base_uri": "https://localhost:8080/",
          "height": 449
        },
        "id": "6VlBy0u4VtkQ",
        "outputId": "cd533fd5-a0bb-4848-9fa0-f21f79266aa8"
      },
      "execution_count": null,
      "outputs": [
        {
          "output_type": "display_data",
          "data": {
            "text/plain": [
              "<Figure size 640x480 with 1 Axes>"
            ],
            "image/png": "[encoded data removed]"
          },
          "metadata": {}
        }
      ]
    },
    {
      "cell_type": "code",
      "source": [
        "df.plot(x='V4G' , y='LABEL', kind='scatter')\n",
        "plt.show()"
      ],
      "metadata": {
        "colab": {
          "base_uri": "https://localhost:8080/",
          "height": 449
        },
        "id": "cqr8pNPj9Fsg",
        "outputId": "26d72dbc-ce80-4787-a155-7c36c71b4892"
      },
      "execution_count": null,
      "outputs": [
        {
          "output_type": "display_data",
          "data": {
            "text/plain": [
              "<Figure size 640x480 with 1 Axes>"
            ],
            "image/png": "[encoded data removed]"
          },
          "metadata": {}
        }
      ]
    },
    {
      "cell_type": "code",
      "source": [
        "df.plot(x='LABEL' , y='V2G', kind='scatter')\n",
        "plt.show()"
      ],
      "metadata": {
        "colab": {
          "base_uri": "https://localhost:8080/",
          "height": 449
        },
        "id": "-bK0OruDV8HI",
        "outputId": "e5b4f7fa-8653-4db4-8a94-38de39dee22b"
      },
      "execution_count": null,
      "outputs": [
        {
          "output_type": "display_data",
          "data": {
            "text/plain": [
              "<Figure size 640x480 with 1 Axes>"
            ],
            "image/png": "[encoded data removed]"
          },
          "metadata": {}
        }
      ]
    },
    {
      "cell_type": "code",
      "source": [
        "df.plot(x='MCK' , y='LU', kind='scatter')\n",
        "plt.show()"
      ],
      "metadata": {
        "colab": {
          "base_uri": "https://localhost:8080/",
          "height": 449
        },
        "id": "h3-FmZNjWTJy",
        "outputId": "382352eb-5583-461b-d523-f04e670031a6"
      },
      "execution_count": null,
      "outputs": [
        {
          "output_type": "display_data",
          "data": {
            "text/plain": [
              "<Figure size 640x480 with 1 Axes>"
            ],
            "image/png": "[encoded data removed]"
          },
          "metadata": {}
        }
      ]
    },
    {
      "cell_type": "code",
      "source": [
        "sns.heatmap(df.corr() , annot=True )"
      ],
      "metadata": {
        "colab": {
          "base_uri": "https://localhost:8080/",
          "height": 561
        },
        "id": "4E-zhCHEWmBP",
        "outputId": "92e8fd29-e85a-4c1c-ce76-e7689eb86376"
      },
      "execution_count": null,
      "outputs": [
        {
          "output_type": "stream",
          "name": "stderr",
          "text": [
            "<ipython-input-10-38ae9096cb3b>:1: FutureWarning: The default value of numeric_only in DataFrame.corr is deprecated. In a future version, it will default to False. Select only valid columns or specify the value of numeric_only to silence this warning.\n",
            "  sns.heatmap(df.corr() , annot=True )\n"
          ]
        },
        {
          "output_type": "execute_result",
          "data": {
            "text/plain": [
              "<Axes: >"
            ]
          },
          "metadata": {},
          "execution_count": 10
        },
        {
          "output_type": "display_data",
          "data": {
            "text/plain": [
              "<Figure size 640x480 with 2 Axes>"
            ],
            "image/png": "[encoded data removed]"
          },
          "metadata": {}
        }
      ]
    },
    {
      "cell_type": "code",
      "source": [
        "from sklearn import preprocessing\n",
        "le= preprocessing.LabelEncoder()\n",
        "df[['LABEL','USER_NETWORK','MANUFACTURE','HS_VOLTE','CUST_CAT','SIM_TYPE','REG','PROV_4G','PROV_VOLTE']]= df[['LABEL','USER_NETWORK','MANUFACTURE','HS_VOLTE','CUST_CAT','SIM_TYPE','REG','PROV_4G','PROV_VOLTE']].apply(le.fit_transform)\n",
        "df"
      ],
      "metadata": {
        "colab": {
          "base_uri": "https://localhost:8080/",
          "height": 461
        },
        "id": "pSyu8xB_Xzru",
        "outputId": "2447970c-4fb6-4d14-cde4-30389773f397"
      },
      "execution_count": null,
      "outputs": [
        {
          "output_type": "execute_result",
          "data": {
            "text/plain": [
              "        Unique ID  LABEL  REG  MCK   LCR    LU    PP  USER_NETWORK  \\\n",
              "0               1      0    3   11  0.00    57  0.00             2   \n",
              "1               2      1    6    0  0.01   288  0.02             0   \n",
              "2               3      0    0   16  0.08    87  0.00             2   \n",
              "3               4      0    3    0  0.35   990  0.01             3   \n",
              "4               5      1    2    2  0.04   182  0.30             2   \n",
              "...           ...    ...  ...  ...   ...   ...   ...           ...   \n",
              "312665     312661      0    4    0  0.18   290  0.00             2   \n",
              "312666     312662      0    3   75  0.07  1240  0.01             1   \n",
              "312667     312663      0    3  179  0.78  3370  0.00             3   \n",
              "312668     312664      0    3   78  0.04  1813  0.54             3   \n",
              "312669     312665      0    1  104  0.20   725  0.08             3   \n",
              "\n",
              "        MANUFACTURE  HS_VOLTE  CUST_CAT  SIM_TYPE  PROV_4G  PROV_VOLTE   D2G  \\\n",
              "0               225         1         0         1        1           1  0.00   \n",
              "1               101         0         0         1        1           1  0.00   \n",
              "2               295         1         0         1        1           1  0.00   \n",
              "3               326         2         2         0        0           0  0.82   \n",
              "4               127         0         3         1        1           1  0.00   \n",
              "...             ...       ...       ...       ...      ...         ...   ...   \n",
              "312665          207         0         9         2        0           0  0.00   \n",
              "312666          227         0         9         2        0           0  0.23   \n",
              "312667          326         2         9         2        0           0  3.47   \n",
              "312668          326         2         9         2        0           0  1.00   \n",
              "312669          326         2         9         2        0           0  0.00   \n",
              "\n",
              "          D3G     D4G     V2G     V3G   V4G  \n",
              "0        6.58   93.42    0.00  100.00  0.00  \n",
              "1        0.00    0.00  100.00    0.00  0.00  \n",
              "2        0.00    0.00    4.88   95.12  0.00  \n",
              "3       99.18    0.00   34.29   65.71  0.00  \n",
              "4        0.03   99.97    0.56   99.44  0.00  \n",
              "...       ...     ...     ...     ...   ...  \n",
              "312665   0.00  100.00   19.54   80.46  0.00  \n",
              "312666  99.77    0.00    7.61   92.39  0.00  \n",
              "312667  27.55   68.98   23.14   76.86  0.00  \n",
              "312668  24.22   74.78    8.53   85.82  5.65  \n",
              "312669  11.60   88.40    6.32   93.68  0.00  \n",
              "\n",
              "[312670 rows x 20 columns]"
            ],
            "text/html": [
              "\n",
              "  <div id=\"df-fce2e4e0-c142-4f58-aea2-64daeeff4674\" class=\"colab-df-container\">\n",
              "    <div>\n",
              "<style scoped>\n",
              "    .dataframe tbody tr th:only-of-type {\n",
              "        vertical-align: middle;\n",
              "    }\n",
              "\n",
              "    .dataframe tbody tr th {\n",
              "        vertical-align: top;\n",
              "    }\n",
              "\n",
              "    .dataframe thead th {\n",
              "        text-align: right;\n",
              "    }\n",
              "</style>\n",
              "<table border=\"1\" class=\"dataframe\">\n",
              "  <thead>\n",
              "    <tr style=\"text-align: right;\">\n",
              "      <th></th>\n",
              "      <th>Unique ID</th>\n",
              "      <th>LABEL</th>\n",
              "      <th>REG</th>\n",
              "      <th>MCK</th>\n",
              "      <th>LCR</th>\n",
              "      <th>LU</th>\n",
              "      <th>PP</th>\n",
              "      <th>USER_NETWORK</th>\n",
              "      <th>MANUFACTURE</th>\n",
              "      <th>HS_VOLTE</th>\n",
              "      <th>CUST_CAT</th>\n",
              "      <th>SIM_TYPE</th>\n",
              "      <th>PROV_4G</th>\n",
              "      <th>PROV_VOLTE</th>\n",
              "      <th>D2G</th>\n",
              "      <th>D3G</th>\n",
              "      <th>D4G</th>\n",
              "      <th>V2G</th>\n",
              "      <th>V3G</th>\n",
              "      <th>V4G</th>\n",
              "    </tr>\n",
              "  </thead>\n",
              "  <tbody>\n",
              "    <tr>\n",
              "      <th>0</th>\n",
              "      <td>1</td>\n",
              "      <td>0</td>\n",
              "      <td>3</td>\n",
              "      <td>11</td>\n",
              "      <td>0.00</td>\n",
              "      <td>57</td>\n",
              "      <td>0.00</td>\n",
              "      <td>2</td>\n",
              "      <td>225</td>\n",
              "      <td>1</td>\n",
              "      <td>0</td>\n",
              "      <td>1</td>\n",
              "      <td>1</td>\n",
              "      <td>1</td>\n",
              "      <td>0.00</td>\n",
              "      <td>6.58</td>\n",
              "      <td>93.42</td>\n",
              "      <td>0.00</td>\n",
              "      <td>100.00</td>\n",
              "      <td>0.00</td>\n",
              "    </tr>\n",
              "    <tr>\n",
              "      <th>1</th>\n",
              "      <td>2</td>\n",
              "      <td>1</td>\n",
              "      <td>6</td>\n",
              "      <td>0</td>\n",
              "      <td>0.01</td>\n",
              "      <td>288</td>\n",
              "      <td>0.02</td>\n",
              "      <td>0</td>\n",
              "      <td>101</td>\n",
              "      <td>0</td>\n",
              "      <td>0</td>\n",
              "      <td>1</td>\n",
              "      <td>1</td>\n",
              "      <td>1</td>\n",
              "      <td>0.00</td>\n",
              "      <td>0.00</td>\n",
              "      <td>0.00</td>\n",
              "      <td>100.00</td>\n",
              "      <td>0.00</td>\n",
              "      <td>0.00</td>\n",
              "    </tr>\n",
              "    <tr>\n",
              "      <th>2</th>\n",
              "      <td>3</td>\n",
              "      <td>0</td>\n",
              "      <td>0</td>\n",
              "      <td>16</td>\n",
              "      <td>0.08</td>\n",
              "      <td>87</td>\n",
              "      <td>0.00</td>\n",
              "      <td>2</td>\n",
              "      <td>295</td>\n",
              "      <td>1</td>\n",
              "      <td>0</td>\n",
              "      <td>1</td>\n",
              "      <td>1</td>\n",
              "      <td>1</td>\n",
              "      <td>0.00</td>\n",
              "      <td>0.00</td>\n",
              "      <td>0.00</td>\n",
              "      <td>4.88</td>\n",
              "      <td>95.12</td>\n",
              "      <td>0.00</td>\n",
              "    </tr>\n",
              "    <tr>\n",
              "      <th>3</th>\n",
              "      <td>4</td>\n",
              "      <td>0</td>\n",
              "      <td>3</td>\n",
              "      <td>0</td>\n",
              "      <td>0.35</td>\n",
              "      <td>990</td>\n",
              "      <td>0.01</td>\n",
              "      <td>3</td>\n",
              "      <td>326</td>\n",
              "      <td>2</td>\n",
              "      <td>2</td>\n",
              "      <td>0</td>\n",
              "      <td>0</td>\n",
              "      <td>0</td>\n",
              "      <td>0.82</td>\n",
              "      <td>99.18</td>\n",
              "      <td>0.00</td>\n",
              "      <td>34.29</td>\n",
              "      <td>65.71</td>\n",
              "      <td>0.00</td>\n",
              "    </tr>\n",
              "    <tr>\n",
              "      <th>4</th>\n",
              "      <td>5</td>\n",
              "      <td>1</td>\n",
              "      <td>2</td>\n",
              "      <td>2</td>\n",
              "      <td>0.04</td>\n",
              "      <td>182</td>\n",
              "      <td>0.30</td>\n",
              "      <td>2</td>\n",
              "      <td>127</td>\n",
              "      <td>0</td>\n",
              "      <td>3</td>\n",
              "      <td>1</td>\n",
              "      <td>1</td>\n",
              "      <td>1</td>\n",
              "      <td>0.00</td>\n",
              "      <td>0.03</td>\n",
              "      <td>99.97</td>\n",
              "      <td>0.56</td>\n",
              "      <td>99.44</td>\n",
              "      <td>0.00</td>\n",
              "    </tr>\n",
              "    <tr>\n",
              "      <th>...</th>\n",
              "      <td>...</td>\n",
              "      <td>...</td>\n",
              "      <td>...</td>\n",
              "      <td>...</td>\n",
              "      <td>...</td>\n",
              "      <td>...</td>\n",
              "      <td>...</td>\n",
              "      <td>...</td>\n",
              "      <td>...</td>\n",
              "      <td>...</td>\n",
              "      <td>...</td>\n",
              "      <td>...</td>\n",
              "      <td>...</td>\n",
              "      <td>...</td>\n",
              "      <td>...</td>\n",
              "      <td>...</td>\n",
              "      <td>...</td>\n",
              "      <td>...</td>\n",
              "      <td>...</td>\n",
              "      <td>...</td>\n",
              "    </tr>\n",
              "    <tr>\n",
              "      <th>312665</th>\n",
              "      <td>312661</td>\n",
              "      <td>0</td>\n",
              "      <td>4</td>\n",
              "      <td>0</td>\n",
              "      <td>0.18</td>\n",
              "      <td>290</td>\n",
              "      <td>0.00</td>\n",
              "      <td>2</td>\n",
              "      <td>207</td>\n",
              "      <td>0</td>\n",
              "      <td>9</td>\n",
              "      <td>2</td>\n",
              "      <td>0</td>\n",
              "      <td>0</td>\n",
              "      <td>0.00</td>\n",
              "      <td>0.00</td>\n",
              "      <td>100.00</td>\n",
              "      <td>19.54</td>\n",
              "      <td>80.46</td>\n",
              "      <td>0.00</td>\n",
              "    </tr>\n",
              "    <tr>\n",
              "      <th>312666</th>\n",
              "      <td>312662</td>\n",
              "      <td>0</td>\n",
              "      <td>3</td>\n",
              "      <td>75</td>\n",
              "      <td>0.07</td>\n",
              "      <td>1240</td>\n",
              "      <td>0.01</td>\n",
              "      <td>1</td>\n",
              "      <td>227</td>\n",
              "      <td>0</td>\n",
              "      <td>9</td>\n",
              "      <td>2</td>\n",
              "      <td>0</td>\n",
              "      <td>0</td>\n",
              "      <td>0.23</td>\n",
              "      <td>99.77</td>\n",
              "      <td>0.00</td>\n",
              "      <td>7.61</td>\n",
              "      <td>92.39</td>\n",
              "      <td>0.00</td>\n",
              "    </tr>\n",
              "    <tr>\n",
              "      <th>312667</th>\n",
              "      <td>312663</td>\n",
              "      <td>0</td>\n",
              "      <td>3</td>\n",
              "      <td>179</td>\n",
              "      <td>0.78</td>\n",
              "      <td>3370</td>\n",
              "      <td>0.00</td>\n",
              "      <td>3</td>\n",
              "      <td>326</td>\n",
              "      <td>2</td>\n",
              "      <td>9</td>\n",
              "      <td>2</td>\n",
              "      <td>0</td>\n",
              "      <td>0</td>\n",
              "      <td>3.47</td>\n",
              "      <td>27.55</td>\n",
              "      <td>68.98</td>\n",
              "      <td>23.14</td>\n",
              "      <td>76.86</td>\n",
              "      <td>0.00</td>\n",
              "    </tr>\n",
              "    <tr>\n",
              "      <th>312668</th>\n",
              "      <td>312664</td>\n",
              "      <td>0</td>\n",
              "      <td>3</td>\n",
              "      <td>78</td>\n",
              "      <td>0.04</td>\n",
              "      <td>1813</td>\n",
              "      <td>0.54</td>\n",
              "      <td>3</td>\n",
              "      <td>326</td>\n",
              "      <td>2</td>\n",
              "      <td>9</td>\n",
              "      <td>2</td>\n",
              "      <td>0</td>\n",
              "      <td>0</td>\n",
              "      <td>1.00</td>\n",
              "      <td>24.22</td>\n",
              "      <td>74.78</td>\n",
              "      <td>8.53</td>\n",
              "      <td>85.82</td>\n",
              "      <td>5.65</td>\n",
              "    </tr>\n",
              "    <tr>\n",
              "      <th>312669</th>\n",
              "      <td>312665</td>\n",
              "      <td>0</td>\n",
              "      <td>1</td>\n",
              "      <td>104</td>\n",
              "      <td>0.20</td>\n",
              "      <td>725</td>\n",
              "      <td>0.08</td>\n",
              "      <td>3</td>\n",
              "      <td>326</td>\n",
              "      <td>2</td>\n",
              "      <td>9</td>\n",
              "      <td>2</td>\n",
              "      <td>0</td>\n",
              "      <td>0</td>\n",
              "      <td>0.00</td>\n",
              "      <td>11.60</td>\n",
              "      <td>88.40</td>\n",
              "      <td>6.32</td>\n",
              "      <td>93.68</td>\n",
              "      <td>0.00</td>\n",
              "    </tr>\n",
              "  </tbody>\n",
              "</table>\n",
              "<p>312670 rows × 20 columns</p>\n",
              "</div>\n",
              "    <div class=\"colab-df-buttons\">\n",
              "\n",
              "  <div class=\"colab-df-container\">\n",
              "    <button class=\"colab-df-convert\" onclick=\"convertToInteractive('df-fce2e4e0-c142-4f58-aea2-64daeeff4674')\"\n",
              "            title=\"Convert this dataframe to an interactive table.\"\n",
              "            style=\"display:none;\">\n",
              "\n",
              "  <svg xmlns=\"http://www.w3.org/2000/svg\" height=\"24px\" viewBox=\"0 -960 960 960\">\n",
              "    <path d=\"M120-120v-720h720v720H120Zm60-500h600v-160H180v160Zm220 220h160v-160H400v160Zm0 220h160v-160H400v160ZM180-400h160v-160H180v160Zm440 0h160v-160H620v160ZM180-180h160v-160H180v160Zm440 0h160v-160H620v160Z\"/>\n",
              "  </svg>\n",
              "    </button>\n",
              "\n",
              "  <style>\n",
              "    .colab-df-container {\n",
              "      display:flex;\n",
              "      gap: 12px;\n",
              "    }\n",
              "\n",
              "    .colab-df-convert {\n",
              "      background-color: #E8F0FE;\n",
              "      border: none;\n",
              "      border-radius: 50%;\n",
              "      cursor: pointer;\n",
              "      display: none;\n",
              "      fill: #1967D2;\n",
              "      height: 32px;\n",
              "      padding: 0 0 0 0;\n",
              "      width: 32px;\n",
              "    }\n",
              "\n",
              "    .colab-df-convert:hover {\n",
              "      background-color: #E2EBFA;\n",
              "      box-shadow: 0px 1px 2px rgba(60, 64, 67, 0.3), 0px 1px 3px 1px rgba(60, 64, 67, 0.15);\n",
              "      fill: #174EA6;\n",
              "    }\n",
              "\n",
              "    .colab-df-buttons div {\n",
              "      margin-bottom: 4px;\n",
              "    }\n",
              "\n",
              "    [theme=dark] .colab-df-convert {\n",
              "      background-color: #3B4455;\n",
              "      fill: #D2E3FC;\n",
              "    }\n",
              "\n",
              "    [theme=dark] .colab-df-convert:hover {\n",
              "      background-color: #434B5C;\n",
              "      box-shadow: 0px 1px 3px 1px rgba(0, 0, 0, 0.15);\n",
              "      filter: drop-shadow(0px 1px 2px rgba(0, 0, 0, 0.3));\n",
              "      fill: #FFFFFF;\n",
              "    }\n",
              "  </style>\n",
              "\n",
              "    <script>\n",
              "      const buttonEl =\n",
              "        document.querySelector('#df-fce2e4e0-c142-4f58-aea2-64daeeff4674 button.colab-df-convert');\n",
              "      buttonEl.style.display =\n",
              "        google.colab.kernel.accessAllowed ? 'block' : 'none';\n",
              "\n",
              "      async function convertToInteractive(key) {\n",
              "        const element = document.querySelector('#df-fce2e4e0-c142-4f58-aea2-64daeeff4674');\n",
              "        const dataTable =\n",
              "          await google.colab.kernel.invokeFunction('convertToInteractive',\n",
              "                                                    [key], {});\n",
              "        if (!dataTable) return;\n",
              "\n",
              "        const docLinkHtml = 'Like what you see? Visit the ' +\n",
              "          '<a target=\"_blank\" href=https://colab.research.google.com/notebooks/data_table.ipynb>data table notebook</a>'\n",
              "          + ' to learn more about interactive tables.';\n",
              "        element.innerHTML = '';\n",
              "        dataTable['output_type'] = 'display_data';\n",
              "        await google.colab.output.renderOutput(dataTable, element);\n",
              "        const docLink = document.createElement('div');\n",
              "        docLink.innerHTML = docLinkHtml;\n",
              "        element.appendChild(docLink);\n",
              "      }\n",
              "    </script>\n",
              "  </div>\n",
              "\n",
              "\n",
              "<div id=\"df-4930d8e4-be5b-4462-9d82-a590585a2945\">\n",
              "  <button class=\"colab-df-quickchart\" onclick=\"quickchart('df-4930d8e4-be5b-4462-9d82-a590585a2945')\"\n",
              "            title=\"Suggest charts.\"\n",
              "            style=\"display:none;\">\n",
              "\n",
              "<svg xmlns=\"http://www.w3.org/2000/svg\" height=\"24px\"viewBox=\"0 0 24 24\"\n",
              "     width=\"24px\">\n",
              "    <g>\n",
              "        <path d=\"M19 3H5c-1.1 0-2 .9-2 2v14c0 1.1.9 2 2 2h14c1.1 0 2-.9 2-2V5c0-1.1-.9-2-2-2zM9 17H7v-7h2v7zm4 0h-2V7h2v10zm4 0h-2v-4h2v4z\"/>\n",
              "    </g>\n",
              "</svg>\n",
              "  </button>\n",
              "\n",
              "<style>\n",
              "  .colab-df-quickchart {\n",
              "    background-color: #E8F0FE;\n",
              "    border: none;\n",
              "    border-radius: 50%;\n",
              "    cursor: pointer;\n",
              "    display: none;\n",
              "    fill: #1967D2;\n",
              "    height: 32px;\n",
              "    padding: 0 0 0 0;\n",
              "    width: 32px;\n",
              "  }\n",
              "\n",
              "  .colab-df-quickchart:hover {\n",
              "    background-color: #E2EBFA;\n",
              "    box-shadow: 0px 1px 2px rgba(60, 64, 67, 0.3), 0px 1px 3px 1px rgba(60, 64, 67, 0.15);\n",
              "    fill: #174EA6;\n",
              "  }\n",
              "\n",
              "  [theme=dark] .colab-df-quickchart {\n",
              "    background-color: #3B4455;\n",
              "    fill: #D2E3FC;\n",
              "  }\n",
              "\n",
              "  [theme=dark] .colab-df-quickchart:hover {\n",
              "    background-color: #434B5C;\n",
              "    box-shadow: 0px 1px 3px 1px rgba(0, 0, 0, 0.15);\n",
              "    filter: drop-shadow(0px 1px 2px rgba(0, 0, 0, 0.3));\n",
              "    fill: #FFFFFF;\n",
              "  }\n",
              "</style>\n",
              "\n",
              "  <script>\n",
              "    async function quickchart(key) {\n",
              "      const charts = await google.colab.kernel.invokeFunction(\n",
              "          'suggestCharts', [key], {});\n",
              "    }\n",
              "    (() => {\n",
              "      let quickchartButtonEl =\n",
              "        document.querySelector('#df-4930d8e4-be5b-4462-9d82-a590585a2945 button');\n",
              "      quickchartButtonEl.style.display =\n",
              "        google.colab.kernel.accessAllowed ? 'block' : 'none';\n",
              "    })();\n",
              "  </script>\n",
              "</div>\n",
              "    </div>\n",
              "  </div>\n"
            ]
          },
          "metadata": {},
          "execution_count": 11
        }
      ]
    },
    {
      "cell_type": "code",
      "source": [
        "df['USER_NETWORK'].fillna(df['USER_NETWORK'].mode(), inplace=True)\n",
        "df['MANUFACTURE'].fillna(df['MANUFACTURE'].mode(), inplace=True)\n",
        "df['HS_VOLTE'].fillna(df['HS_VOLTE'].mode(), inplace=True)\n",
        "df['CUST_CAT'].fillna(df['CUST_CAT'].mode(), inplace=True)\n",
        "df['SIM_TYPE'].fillna(df['SIM_TYPE'].mode(), inplace=True)\n",
        "df['PROV_4G'].fillna(df['PROV_4G'].mode(), inplace=True)\n",
        "df['PROV_VOLTE'].fillna(df['PROV_VOLTE'].mode(), inplace=True)\n",
        "df.isnull().sum()"
      ],
      "metadata": {
        "colab": {
          "base_uri": "https://localhost:8080/"
        },
        "id": "yKwBzXlVXH2m",
        "outputId": "c252ac35-f543-4398-ddca-d5984bbac27d"
      },
      "execution_count": null,
      "outputs": [
        {
          "output_type": "execute_result",
          "data": {
            "text/plain": [
              "Unique ID       0\n",
              "LABEL           0\n",
              "REG             0\n",
              "MCK             0\n",
              "LCR             0\n",
              "LU              0\n",
              "PP              0\n",
              "USER_NETWORK    0\n",
              "MANUFACTURE     0\n",
              "HS_VOLTE        0\n",
              "CUST_CAT        0\n",
              "SIM_TYPE        0\n",
              "PROV_4G         0\n",
              "PROV_VOLTE      0\n",
              "D2G             0\n",
              "D3G             0\n",
              "D4G             0\n",
              "V2G             0\n",
              "V3G             0\n",
              "V4G             0\n",
              "dtype: int64"
            ]
          },
          "metadata": {},
          "execution_count": 12
        }
      ]
    },
    {
      "cell_type": "code",
      "source": [
        "df=df.drop_duplicates()"
      ],
      "metadata": {
        "id": "3frgsi85aRMV"
      },
      "execution_count": null,
      "outputs": []
    },
    {
      "cell_type": "code",
      "source": [
        "z = np.abs(stats.zscore(df))\n",
        "df = df[(z<3).all(axis=1)]"
      ],
      "metadata": {
        "colab": {
          "base_uri": "https://localhost:8080/",
          "height": 423
        },
        "id": "yJ-_uQSabQ38",
        "outputId": "1f61c9f4-1598-4c34-ea3d-9a37b49b6a6a"
      },
      "execution_count": null,
      "outputs": [
        {
          "output_type": "execute_result",
          "data": {
            "text/plain": [
              "        Unique ID  LABEL  REG  MCK   LCR    LU    PP  USER_NETWORK  \\\n",
              "0               1      0    3   11  0.00    57  0.00             2   \n",
              "2               3      0    0   16  0.08    87  0.00             2   \n",
              "3               4      0    3    0  0.35   990  0.01             3   \n",
              "5               6      0    3   18  0.29  1808  0.19             2   \n",
              "6               7      0    4    0  0.07   100  0.00             2   \n",
              "...           ...    ...  ...  ...   ...   ...   ...           ...   \n",
              "312490     312486      0    3   18  0.10   551  0.00             1   \n",
              "312492     312488      0    3    5  0.54  1618  0.08             2   \n",
              "312493     312489      0    6    0  0.05  1180  0.04             3   \n",
              "312494     312490      0    1    3  0.01    88  0.00             2   \n",
              "312495     312491      0    4    0  0.15   389  0.00             2   \n",
              "\n",
              "        MANUFACTURE  HS_VOLTE  CUST_CAT  SIM_TYPE  PROV_4G  PROV_VOLTE   D2G  \\\n",
              "0               225         1         0         1        1           1  0.00   \n",
              "2               295         1         0         1        1           1  0.00   \n",
              "3               326         2         2         0        0           0  0.82   \n",
              "5               120         1         0         1        1           1  0.12   \n",
              "6               227         2         0         1        1           1  0.00   \n",
              "...             ...       ...       ...       ...      ...         ...   ...   \n",
              "312490          225         0         3         1        1           1  0.57   \n",
              "312492          191         1         2         1        1           1  7.77   \n",
              "312493          326         2         2         1        1           1  0.00   \n",
              "312494          225         1         1         1        1           1  0.00   \n",
              "312495          207         0         9         0        0           0  0.00   \n",
              "\n",
              "           D3G     D4G    V2G     V3G    V4G  \n",
              "0         6.58   93.42   0.00  100.00   0.00  \n",
              "2         0.00    0.00   4.88   95.12   0.00  \n",
              "3        99.18    0.00  34.29   65.71   0.00  \n",
              "5         7.45   92.43   8.24   91.76   0.00  \n",
              "6         0.00  100.00  10.14   89.86   0.00  \n",
              "...        ...     ...    ...     ...    ...  \n",
              "312490   96.65    2.78  45.36   54.64   0.00  \n",
              "312492   51.14   41.09   6.35   12.70  80.95  \n",
              "312493    9.73   90.27  56.47   43.53   0.00  \n",
              "312494    1.74   98.26   0.54    0.94  98.53  \n",
              "312495  100.00    0.00  11.11   88.89   0.00  \n",
              "\n",
              "[260614 rows x 20 columns]"
            ],
            "text/html": [
              "\n",
              "  <div id=\"df-70dc302a-75d9-4d8f-8947-02c1db075a9f\" class=\"colab-df-container\">\n",
              "    <div>\n",
              "<style scoped>\n",
              "    .dataframe tbody tr th:only-of-type {\n",
              "        vertical-align: middle;\n",
              "    }\n",
              "\n",
              "    .dataframe tbody tr th {\n",
              "        vertical-align: top;\n",
              "    }\n",
              "\n",
              "    .dataframe thead th {\n",
              "        text-align: right;\n",
              "    }\n",
              "</style>\n",
              "<table border=\"1\" class=\"dataframe\">\n",
              "  <thead>\n",
              "    <tr style=\"text-align: right;\">\n",
              "      <th></th>\n",
              "      <th>Unique ID</th>\n",
              "      <th>LABEL</th>\n",
              "      <th>REG</th>\n",
              "      <th>MCK</th>\n",
              "      <th>LCR</th>\n",
              "      <th>LU</th>\n",
              "      <th>PP</th>\n",
              "      <th>USER_NETWORK</th>\n",
              "      <th>MANUFACTURE</th>\n",
              "      <th>HS_VOLTE</th>\n",
              "      <th>CUST_CAT</th>\n",
              "      <th>SIM_TYPE</th>\n",
              "      <th>PROV_4G</th>\n",
              "      <th>PROV_VOLTE</th>\n",
              "      <th>D2G</th>\n",
              "      <th>D3G</th>\n",
              "      <th>D4G</th>\n",
              "      <th>V2G</th>\n",
              "      <th>V3G</th>\n",
              "      <th>V4G</th>\n",
              "    </tr>\n",
              "  </thead>\n",
              "  <tbody>\n",
              "    <tr>\n",
              "      <th>0</th>\n",
              "      <td>1</td>\n",
              "      <td>0</td>\n",
              "      <td>3</td>\n",
              "      <td>11</td>\n",
              "      <td>0.00</td>\n",
              "      <td>57</td>\n",
              "      <td>0.00</td>\n",
              "      <td>2</td>\n",
              "      <td>225</td>\n",
              "      <td>1</td>\n",
              "      <td>0</td>\n",
              "      <td>1</td>\n",
              "      <td>1</td>\n",
              "      <td>1</td>\n",
              "      <td>0.00</td>\n",
              "      <td>6.58</td>\n",
              "      <td>93.42</td>\n",
              "      <td>0.00</td>\n",
              "      <td>100.00</td>\n",
              "      <td>0.00</td>\n",
              "    </tr>\n",
              "    <tr>\n",
              "      <th>2</th>\n",
              "      <td>3</td>\n",
              "      <td>0</td>\n",
              "      <td>0</td>\n",
              "      <td>16</td>\n",
              "      <td>0.08</td>\n",
              "      <td>87</td>\n",
              "      <td>0.00</td>\n",
              "      <td>2</td>\n",
              "      <td>295</td>\n",
              "      <td>1</td>\n",
              "      <td>0</td>\n",
              "      <td>1</td>\n",
              "      <td>1</td>\n",
              "      <td>1</td>\n",
              "      <td>0.00</td>\n",
              "      <td>0.00</td>\n",
              "      <td>0.00</td>\n",
              "      <td>4.88</td>\n",
              "      <td>95.12</td>\n",
              "      <td>0.00</td>\n",
              "    </tr>\n",
              "    <tr>\n",
              "      <th>3</th>\n",
              "      <td>4</td>\n",
              "      <td>0</td>\n",
              "      <td>3</td>\n",
              "      <td>0</td>\n",
              "      <td>0.35</td>\n",
              "      <td>990</td>\n",
              "      <td>0.01</td>\n",
              "      <td>3</td>\n",
              "      <td>326</td>\n",
              "      <td>2</td>\n",
              "      <td>2</td>\n",
              "      <td>0</td>\n",
              "      <td>0</td>\n",
              "      <td>0</td>\n",
              "      <td>0.82</td>\n",
              "      <td>99.18</td>\n",
              "      <td>0.00</td>\n",
              "      <td>34.29</td>\n",
              "      <td>65.71</td>\n",
              "      <td>0.00</td>\n",
              "    </tr>\n",
              "    <tr>\n",
              "      <th>5</th>\n",
              "      <td>6</td>\n",
              "      <td>0</td>\n",
              "      <td>3</td>\n",
              "      <td>18</td>\n",
              "      <td>0.29</td>\n",
              "      <td>1808</td>\n",
              "      <td>0.19</td>\n",
              "      <td>2</td>\n",
              "      <td>120</td>\n",
              "      <td>1</td>\n",
              "      <td>0</td>\n",
              "      <td>1</td>\n",
              "      <td>1</td>\n",
              "      <td>1</td>\n",
              "      <td>0.12</td>\n",
              "      <td>7.45</td>\n",
              "      <td>92.43</td>\n",
              "      <td>8.24</td>\n",
              "      <td>91.76</td>\n",
              "      <td>0.00</td>\n",
              "    </tr>\n",
              "    <tr>\n",
              "      <th>6</th>\n",
              "      <td>7</td>\n",
              "      <td>0</td>\n",
              "      <td>4</td>\n",
              "      <td>0</td>\n",
              "      <td>0.07</td>\n",
              "      <td>100</td>\n",
              "      <td>0.00</td>\n",
              "      <td>2</td>\n",
              "      <td>227</td>\n",
              "      <td>2</td>\n",
              "      <td>0</td>\n",
              "      <td>1</td>\n",
              "      <td>1</td>\n",
              "      <td>1</td>\n",
              "      <td>0.00</td>\n",
              "      <td>0.00</td>\n",
              "      <td>100.00</td>\n",
              "      <td>10.14</td>\n",
              "      <td>89.86</td>\n",
              "      <td>0.00</td>\n",
              "    </tr>\n",
              "    <tr>\n",
              "      <th>...</th>\n",
              "      <td>...</td>\n",
              "      <td>...</td>\n",
              "      <td>...</td>\n",
              "      <td>...</td>\n",
              "      <td>...</td>\n",
              "      <td>...</td>\n",
              "      <td>...</td>\n",
              "      <td>...</td>\n",
              "      <td>...</td>\n",
              "      <td>...</td>\n",
              "      <td>...</td>\n",
              "      <td>...</td>\n",
              "      <td>...</td>\n",
              "      <td>...</td>\n",
              "      <td>...</td>\n",
              "      <td>...</td>\n",
              "      <td>...</td>\n",
              "      <td>...</td>\n",
              "      <td>...</td>\n",
              "      <td>...</td>\n",
              "    </tr>\n",
              "    <tr>\n",
              "      <th>312490</th>\n",
              "      <td>312486</td>\n",
              "      <td>0</td>\n",
              "      <td>3</td>\n",
              "      <td>18</td>\n",
              "      <td>0.10</td>\n",
              "      <td>551</td>\n",
              "      <td>0.00</td>\n",
              "      <td>1</td>\n",
              "      <td>225</td>\n",
              "      <td>0</td>\n",
              "      <td>3</td>\n",
              "      <td>1</td>\n",
              "      <td>1</td>\n",
              "      <td>1</td>\n",
              "      <td>0.57</td>\n",
              "      <td>96.65</td>\n",
              "      <td>2.78</td>\n",
              "      <td>45.36</td>\n",
              "      <td>54.64</td>\n",
              "      <td>0.00</td>\n",
              "    </tr>\n",
              "    <tr>\n",
              "      <th>312492</th>\n",
              "      <td>312488</td>\n",
              "      <td>0</td>\n",
              "      <td>3</td>\n",
              "      <td>5</td>\n",
              "      <td>0.54</td>\n",
              "      <td>1618</td>\n",
              "      <td>0.08</td>\n",
              "      <td>2</td>\n",
              "      <td>191</td>\n",
              "      <td>1</td>\n",
              "      <td>2</td>\n",
              "      <td>1</td>\n",
              "      <td>1</td>\n",
              "      <td>1</td>\n",
              "      <td>7.77</td>\n",
              "      <td>51.14</td>\n",
              "      <td>41.09</td>\n",
              "      <td>6.35</td>\n",
              "      <td>12.70</td>\n",
              "      <td>80.95</td>\n",
              "    </tr>\n",
              "    <tr>\n",
              "      <th>312493</th>\n",
              "      <td>312489</td>\n",
              "      <td>0</td>\n",
              "      <td>6</td>\n",
              "      <td>0</td>\n",
              "      <td>0.05</td>\n",
              "      <td>1180</td>\n",
              "      <td>0.04</td>\n",
              "      <td>3</td>\n",
              "      <td>326</td>\n",
              "      <td>2</td>\n",
              "      <td>2</td>\n",
              "      <td>1</td>\n",
              "      <td>1</td>\n",
              "      <td>1</td>\n",
              "      <td>0.00</td>\n",
              "      <td>9.73</td>\n",
              "      <td>90.27</td>\n",
              "      <td>56.47</td>\n",
              "      <td>43.53</td>\n",
              "      <td>0.00</td>\n",
              "    </tr>\n",
              "    <tr>\n",
              "      <th>312494</th>\n",
              "      <td>312490</td>\n",
              "      <td>0</td>\n",
              "      <td>1</td>\n",
              "      <td>3</td>\n",
              "      <td>0.01</td>\n",
              "      <td>88</td>\n",
              "      <td>0.00</td>\n",
              "      <td>2</td>\n",
              "      <td>225</td>\n",
              "      <td>1</td>\n",
              "      <td>1</td>\n",
              "      <td>1</td>\n",
              "      <td>1</td>\n",
              "      <td>1</td>\n",
              "      <td>0.00</td>\n",
              "      <td>1.74</td>\n",
              "      <td>98.26</td>\n",
              "      <td>0.54</td>\n",
              "      <td>0.94</td>\n",
              "      <td>98.53</td>\n",
              "    </tr>\n",
              "    <tr>\n",
              "      <th>312495</th>\n",
              "      <td>312491</td>\n",
              "      <td>0</td>\n",
              "      <td>4</td>\n",
              "      <td>0</td>\n",
              "      <td>0.15</td>\n",
              "      <td>389</td>\n",
              "      <td>0.00</td>\n",
              "      <td>2</td>\n",
              "      <td>207</td>\n",
              "      <td>0</td>\n",
              "      <td>9</td>\n",
              "      <td>0</td>\n",
              "      <td>0</td>\n",
              "      <td>0</td>\n",
              "      <td>0.00</td>\n",
              "      <td>100.00</td>\n",
              "      <td>0.00</td>\n",
              "      <td>11.11</td>\n",
              "      <td>88.89</td>\n",
              "      <td>0.00</td>\n",
              "    </tr>\n",
              "  </tbody>\n",
              "</table>\n",
              "<p>260614 rows × 20 columns</p>\n",
              "</div>\n",
              "    <div class=\"colab-df-buttons\">\n",
              "\n",
              "  <div class=\"colab-df-container\">\n",
              "    <button class=\"colab-df-convert\" onclick=\"convertToInteractive('df-70dc302a-75d9-4d8f-8947-02c1db075a9f')\"\n",
              "            title=\"Convert this dataframe to an interactive table.\"\n",
              "            style=\"display:none;\">\n",
              "\n",
              "  <svg xmlns=\"http://www.w3.org/2000/svg\" height=\"24px\" viewBox=\"0 -960 960 960\">\n",
              "    <path d=\"M120-120v-720h720v720H120Zm60-500h600v-160H180v160Zm220 220h160v-160H400v160Zm0 220h160v-160H400v160ZM180-400h160v-160H180v160Zm440 0h160v-160H620v160ZM180-180h160v-160H180v160Zm440 0h160v-160H620v160Z\"/>\n",
              "  </svg>\n",
              "    </button>\n",
              "\n",
              "  <style>\n",
              "    .colab-df-container {\n",
              "      display:flex;\n",
              "      gap: 12px;\n",
              "    }\n",
              "\n",
              "    .colab-df-convert {\n",
              "      background-color: #E8F0FE;\n",
              "      border: none;\n",
              "      border-radius: 50%;\n",
              "      cursor: pointer;\n",
              "      display: none;\n",
              "      fill: #1967D2;\n",
              "      height: 32px;\n",
              "      padding: 0 0 0 0;\n",
              "      width: 32px;\n",
              "    }\n",
              "\n",
              "    .colab-df-convert:hover {\n",
              "      background-color: #E2EBFA;\n",
              "      box-shadow: 0px 1px 2px rgba(60, 64, 67, 0.3), 0px 1px 3px 1px rgba(60, 64, 67, 0.15);\n",
              "      fill: #174EA6;\n",
              "    }\n",
              "\n",
              "    .colab-df-buttons div {\n",
              "      margin-bottom: 4px;\n",
              "    }\n",
              "\n",
              "    [theme=dark] .colab-df-convert {\n",
              "      background-color: #3B4455;\n",
              "      fill: #D2E3FC;\n",
              "    }\n",
              "\n",
              "    [theme=dark] .colab-df-convert:hover {\n",
              "      background-color: #434B5C;\n",
              "      box-shadow: 0px 1px 3px 1px rgba(0, 0, 0, 0.15);\n",
              "      filter: drop-shadow(0px 1px 2px rgba(0, 0, 0, 0.3));\n",
              "      fill: #FFFFFF;\n",
              "    }\n",
              "  </style>\n",
              "\n",
              "    <script>\n",
              "      const buttonEl =\n",
              "        document.querySelector('#df-70dc302a-75d9-4d8f-8947-02c1db075a9f button.colab-df-convert');\n",
              "      buttonEl.style.display =\n",
              "        google.colab.kernel.accessAllowed ? 'block' : 'none';\n",
              "\n",
              "      async function convertToInteractive(key) {\n",
              "        const element = document.querySelector('#df-70dc302a-75d9-4d8f-8947-02c1db075a9f');\n",
              "        const dataTable =\n",
              "          await google.colab.kernel.invokeFunction('convertToInteractive',\n",
              "                                                    [key], {});\n",
              "        if (!dataTable) return;\n",
              "\n",
              "        const docLinkHtml = 'Like what you see? Visit the ' +\n",
              "          '<a target=\"_blank\" href=https://colab.research.google.com/notebooks/data_table.ipynb>data table notebook</a>'\n",
              "          + ' to learn more about interactive tables.';\n",
              "        element.innerHTML = '';\n",
              "        dataTable['output_type'] = 'display_data';\n",
              "        await google.colab.output.renderOutput(dataTable, element);\n",
              "        const docLink = document.createElement('div');\n",
              "        docLink.innerHTML = docLinkHtml;\n",
              "        element.appendChild(docLink);\n",
              "      }\n",
              "    </script>\n",
              "  </div>\n",
              "\n",
              "\n",
              "<div id=\"df-d0ad32e5-67d4-4a5e-8cac-ea523403ffd5\">\n",
              "  <button class=\"colab-df-quickchart\" onclick=\"quickchart('df-d0ad32e5-67d4-4a5e-8cac-ea523403ffd5')\"\n",
              "            title=\"Suggest charts.\"\n",
              "            style=\"display:none;\">\n",
              "\n",
              "<svg xmlns=\"http://www.w3.org/2000/svg\" height=\"24px\"viewBox=\"0 0 24 24\"\n",
              "     width=\"24px\">\n",
              "    <g>\n",
              "        <path d=\"M19 3H5c-1.1 0-2 .9-2 2v14c0 1.1.9 2 2 2h14c1.1 0 2-.9 2-2V5c0-1.1-.9-2-2-2zM9 17H7v-7h2v7zm4 0h-2V7h2v10zm4 0h-2v-4h2v4z\"/>\n",
              "    </g>\n",
              "</svg>\n",
              "  </button>\n",
              "\n",
              "<style>\n",
              "  .colab-df-quickchart {\n",
              "    background-color: #E8F0FE;\n",
              "    border: none;\n",
              "    border-radius: 50%;\n",
              "    cursor: pointer;\n",
              "    display: none;\n",
              "    fill: #1967D2;\n",
              "    height: 32px;\n",
              "    padding: 0 0 0 0;\n",
              "    width: 32px;\n",
              "  }\n",
              "\n",
              "  .colab-df-quickchart:hover {\n",
              "    background-color: #E2EBFA;\n",
              "    box-shadow: 0px 1px 2px rgba(60, 64, 67, 0.3), 0px 1px 3px 1px rgba(60, 64, 67, 0.15);\n",
              "    fill: #174EA6;\n",
              "  }\n",
              "\n",
              "  [theme=dark] .colab-df-quickchart {\n",
              "    background-color: #3B4455;\n",
              "    fill: #D2E3FC;\n",
              "  }\n",
              "\n",
              "  [theme=dark] .colab-df-quickchart:hover {\n",
              "    background-color: #434B5C;\n",
              "    box-shadow: 0px 1px 3px 1px rgba(0, 0, 0, 0.15);\n",
              "    filter: drop-shadow(0px 1px 2px rgba(0, 0, 0, 0.3));\n",
              "    fill: #FFFFFF;\n",
              "  }\n",
              "</style>\n",
              "\n",
              "  <script>\n",
              "    async function quickchart(key) {\n",
              "      const charts = await google.colab.kernel.invokeFunction(\n",
              "          'suggestCharts', [key], {});\n",
              "    }\n",
              "    (() => {\n",
              "      let quickchartButtonEl =\n",
              "        document.querySelector('#df-d0ad32e5-67d4-4a5e-8cac-ea523403ffd5 button');\n",
              "      quickchartButtonEl.style.display =\n",
              "        google.colab.kernel.accessAllowed ? 'block' : 'none';\n",
              "    })();\n",
              "  </script>\n",
              "</div>\n",
              "    </div>\n",
              "  </div>\n"
            ]
          },
          "metadata": {},
          "execution_count": 14
        }
      ]
    },
    {
      "cell_type": "code",
      "source": [
        "df=df.drop('Unique ID',axis=1)"
      ],
      "metadata": {
        "id": "KqJK_gaseXHs"
      },
      "execution_count": null,
      "outputs": []
    },
    {
      "cell_type": "code",
      "source": [
        "x= df.iloc[:,1:]\n",
        "y= df.iloc[:,0]"
      ],
      "metadata": {
        "id": "oYICJ65NdYit"
      },
      "execution_count": null,
      "outputs": []
    },
    {
      "cell_type": "code",
      "source": [
        "from sklearn.model_selection import train_test_split\n",
        "x_train , x_test ,y_train,y_test = train_test_split(x, y, test_size= 0.3 , random_state=3)"
      ],
      "metadata": {
        "id": "pX6a8AYAfk8Y"
      },
      "execution_count": null,
      "outputs": []
    },
    {
      "cell_type": "markdown",
      "source": [
        "DT"
      ],
      "metadata": {
        "id": "Nbdndc57frO5"
      }
    },
    {
      "cell_type": "code",
      "source": [
        "from sklearn.tree import DecisionTreeClassifier\n",
        "dectree = DecisionTreeClassifier()\n",
        "dectree.fit(x_train,y_train)\n",
        "pred = dectree.predict(x_test)"
      ],
      "metadata": {
        "id": "bGY0U5PAfptX"
      },
      "execution_count": null,
      "outputs": []
    },
    {
      "cell_type": "code",
      "source": [
        "from sklearn.metrics import accuracy_score\n",
        "dt_acc=accuracy_score(y_test,pred)\n",
        "print(dt_acc)"
      ],
      "metadata": {
        "colab": {
          "base_uri": "https://localhost:8080/"
        },
        "id": "1QPudclHfzlH",
        "outputId": "bea24b39-1425-4188-b86f-5e5b99bb383d"
      },
      "execution_count": null,
      "outputs": [
        {
          "output_type": "stream",
          "name": "stdout",
          "text": [
            "0.8431253398151406\n"
          ]
        }
      ]
    },
    {
      "cell_type": "code",
      "source": [
        "from sklearn.metrics import precision_score\n",
        "precision = precision_score(y_test,pred,average='micro')\n",
        "print('DT Precision: ',precision)"
      ],
      "metadata": {
        "colab": {
          "base_uri": "https://localhost:8080/"
        },
        "id": "UJbIYFpugGUC",
        "outputId": "c38fc73c-46e1-46f5-a260-524722434b34"
      },
      "execution_count": null,
      "outputs": [
        {
          "output_type": "stream",
          "name": "stdout",
          "text": [
            "DT Precision:  0.8431253398151406\n"
          ]
        }
      ]
    },
    {
      "cell_type": "code",
      "source": [
        "from sklearn.metrics import recall_score\n",
        "recall = recall_score(y_test, pred,average='weighted')\n",
        "print('DT Recall: ',recall)"
      ],
      "metadata": {
        "colab": {
          "base_uri": "https://localhost:8080/"
        },
        "id": "WytL-w0agJIA",
        "outputId": "63d9451d-6615-48e2-d816-de993321410b"
      },
      "execution_count": null,
      "outputs": [
        {
          "output_type": "stream",
          "name": "stdout",
          "text": [
            "DT Recall:  0.8431253398151406\n"
          ]
        }
      ]
    },
    {
      "cell_type": "code",
      "source": [
        "from sklearn.metrics import confusion_matrix\n",
        "cm = confusion_matrix(y_test,pred)\n",
        "sns.heatmap(cm,annot=True,fmt='g')\n",
        "plt.ylabel('Prediction',fontsize=13)\n",
        "plt.xlabel('Actual',fontsize=13)\n",
        "plt.title('Confusion Matrix',fontsize=17)\n",
        "plt.show()"
      ],
      "metadata": {
        "colab": {
          "base_uri": "https://localhost:8080/",
          "height": 481
        },
        "id": "jI4ylsNej7Fi",
        "outputId": "280707d1-8124-4dca-9e0e-d1fc55f6fe82"
      },
      "execution_count": null,
      "outputs": [
        {
          "output_type": "display_data",
          "data": {
            "text/plain": [
              "<Figure size 640x480 with 2 Axes>"
            ],
            "image/png": "[encoded data removed]"
          },
          "metadata": {}
        }
      ]
    },
    {
      "cell_type": "markdown",
      "source": [
        "SVM"
      ],
      "metadata": {
        "id": "BhX0SKhmgNJJ"
      }
    },
    {
      "cell_type": "code",
      "source": [
        "from sklearn import svm\n",
        "from sklearn.svm import SVC\n",
        "s= SVC()\n",
        "s.fit(x_train,y_train)\n",
        "pred= s.predict(x_test)"
      ],
      "metadata": {
        "id": "x01i2AXtgP24"
      },
      "execution_count": null,
      "outputs": []
    },
    {
      "cell_type": "code",
      "source": [
        "from sklearn.metrics import accuracy_score\n",
        "svm_acc=accuracy_score(y_test, pred)\n",
        "print(svm_acc)"
      ],
      "metadata": {
        "colab": {
          "base_uri": "https://localhost:8080/"
        },
        "id": "6dhGwBHRgT9R",
        "outputId": "2095fd58-ca1e-4216-cd26-1dc24123289a"
      },
      "execution_count": null,
      "outputs": [
        {
          "output_type": "stream",
          "name": "stdout",
          "text": [
            "0.9172396882762444\n"
          ]
        }
      ]
    },
    {
      "cell_type": "code",
      "source": [
        "from sklearn.metrics import precision_score\n",
        "precision = precision_score(y_test,pred,average='micro')\n",
        "print('Precision: ',precision)"
      ],
      "metadata": {
        "colab": {
          "base_uri": "https://localhost:8080/"
        },
        "id": "jRqaoEwdiVIB",
        "outputId": "ecc27386-d0f9-4c6e-9214-e37af16d5937"
      },
      "execution_count": null,
      "outputs": [
        {
          "output_type": "stream",
          "name": "stdout",
          "text": [
            "Precision:  0.9172396882762444\n"
          ]
        }
      ]
    },
    {
      "cell_type": "code",
      "source": [
        "from sklearn.metrics import recall_score\n",
        "recall = recall_score(y_test, pred,average='weighted')\n",
        "print('Recall: ',recall)"
      ],
      "metadata": {
        "colab": {
          "base_uri": "https://localhost:8080/"
        },
        "id": "ZHzoR4lziW_I",
        "outputId": "615195aa-a4ea-4c73-8d3a-d0d0bd874342"
      },
      "execution_count": null,
      "outputs": [
        {
          "output_type": "stream",
          "name": "stdout",
          "text": [
            "Recall:  0.9172396882762444\n"
          ]
        }
      ]
    },
    {
      "cell_type": "code",
      "source": [
        "from sklearn.metrics import confusion_matrix\n",
        "cm = confusion_matrix(y_test,pred)\n",
        "sns.heatmap(cm,annot=True,fmt='g')\n",
        "plt.ylabel('Prediction',fontsize=13)\n",
        "plt.xlabel('Actual',fontsize=13)\n",
        "plt.title('Confusion Matrix',fontsize=17)\n",
        "plt.show()"
      ],
      "metadata": {
        "colab": {
          "base_uri": "https://localhost:8080/",
          "height": 481
        },
        "id": "YnwrloIhkQTh",
        "outputId": "8273eefa-2b03-4067-b382-8970f1223c47"
      },
      "execution_count": null,
      "outputs": [
        {
          "output_type": "display_data",
          "data": {
            "text/plain": [
              "<Figure size 640x480 with 2 Axes>"
            ],
            "image/png": "[encoded data removed]"
          },
          "metadata": {}
        }
      ]
    },
    {
      "cell_type": "markdown",
      "source": [
        "Naive Bayes"
      ],
      "metadata": {
        "id": "JcuuEpNVgmtc"
      }
    },
    {
      "cell_type": "code",
      "source": [
        "from sklearn.naive_bayes import GaussianNB\n",
        "gnb = GaussianNB()\n",
        "gnb.fit(x_train,y_train)\n",
        "pred = gnb.predict(x_test)"
      ],
      "metadata": {
        "id": "TQYoZf99gpt9"
      },
      "execution_count": null,
      "outputs": []
    },
    {
      "cell_type": "code",
      "source": [
        "from sklearn.metrics import accuracy_score\n",
        "nb_acc=accuracy_score(y_test,pred)\n",
        "print(nb_acc)"
      ],
      "metadata": {
        "colab": {
          "base_uri": "https://localhost:8080/"
        },
        "id": "D5PTmo4sg1kI",
        "outputId": "61267fd3-b48a-4993-a92c-c4c61b696e50"
      },
      "execution_count": null,
      "outputs": [
        {
          "output_type": "stream",
          "name": "stdout",
          "text": [
            "0.8200232406903978\n"
          ]
        }
      ]
    },
    {
      "cell_type": "code",
      "source": [
        "from sklearn.metrics import precision_score\n",
        "precision = precision_score(y_test,pred,average='micro')\n",
        "print('NB Precision: ',precision)"
      ],
      "metadata": {
        "colab": {
          "base_uri": "https://localhost:8080/"
        },
        "id": "dPF7xpZ0g36o",
        "outputId": "84a87537-c287-4a1b-9272-fe73ad6cf5f0"
      },
      "execution_count": null,
      "outputs": [
        {
          "output_type": "stream",
          "name": "stdout",
          "text": [
            "NB Precision:  0.8200232406903978\n"
          ]
        }
      ]
    },
    {
      "cell_type": "code",
      "source": [
        "from sklearn.metrics import recall_score\n",
        "recall = recall_score(y_test, pred,average='weighted')\n",
        "print('NB Recall: ',recall)"
      ],
      "metadata": {
        "colab": {
          "base_uri": "https://localhost:8080/"
        },
        "id": "yR9-vH-EiPMS",
        "outputId": "4228d54b-37bd-4ad6-97e0-5d59a17a461b"
      },
      "execution_count": null,
      "outputs": [
        {
          "output_type": "stream",
          "name": "stdout",
          "text": [
            "NB Recall:  0.8200232406903978\n"
          ]
        }
      ]
    },
    {
      "cell_type": "code",
      "source": [
        "from sklearn.metrics import confusion_matrix\n",
        "cm = confusion_matrix(y_test,pred)\n",
        "sns.heatmap(cm,annot=True,fmt='g')\n",
        "plt.ylabel('Prediction',fontsize=13)\n",
        "plt.xlabel('Actual',fontsize=13)\n",
        "plt.title('Confusion Matrix',fontsize=17)\n",
        "plt.show()"
      ],
      "metadata": {
        "colab": {
          "base_uri": "https://localhost:8080/",
          "height": 481
        },
        "id": "h6fCdDq4oIB6",
        "outputId": "b85fa350-b5eb-4832-cd88-cb258c7427b2"
      },
      "execution_count": null,
      "outputs": [
        {
          "output_type": "display_data",
          "data": {
            "text/plain": [
              "<Figure size 640x480 with 2 Axes>"
            ],
            "image/png": "[encoded data removed]"
          },
          "metadata": {}
        }
      ]
    },
    {
      "cell_type": "markdown",
      "source": [
        "Logistic reg"
      ],
      "metadata": {
        "id": "tZMGeDHQhAMk"
      }
    },
    {
      "cell_type": "code",
      "source": [
        "from sklearn.linear_model import LogisticRegression\n",
        "model = LogisticRegression()\n",
        "model.fit(x_train, y_train)\n",
        "predictions = model.predict(x_test)"
      ],
      "metadata": {
        "colab": {
          "base_uri": "https://localhost:8080/"
        },
        "id": "dSIhaH9Ug7-D",
        "outputId": "75bda45b-b783-4a8d-8789-87f3ccf8a01d"
      },
      "execution_count": null,
      "outputs": [
        {
          "output_type": "stream",
          "name": "stderr",
          "text": [
            "/usr/local/lib/python3.10/dist-packages/sklearn/linear_model/_logistic.py:458: ConvergenceWarning: lbfgs failed to converge (status=1):\n",
            "STOP: TOTAL NO. of ITERATIONS REACHED LIMIT.\n",
            "\n",
            "Increase the number of iterations (max_iter) or scale the data as shown in:\n",
            "    https://scikit-learn.org/stable/modules/preprocessing.html\n",
            "Please also refer to the documentation for alternative solver options:\n",
            "    https://scikit-learn.org/stable/modules/linear_model.html#logistic-regression\n",
            "  n_iter_i = _check_optimize_result(\n"
          ]
        }
      ]
    },
    {
      "cell_type": "code",
      "source": [
        "from sklearn.metrics import accuracy_score\n",
        "lg_acc=accuracy_score(y_test,predictions)\n",
        "print(lg_acc)"
      ],
      "metadata": {
        "colab": {
          "base_uri": "https://localhost:8080/"
        },
        "id": "tLuOfdxdhG2n",
        "outputId": "09a1ac9e-a0b7-405a-a6d5-b82bb5e6a2bb"
      },
      "execution_count": null,
      "outputs": [
        {
          "output_type": "stream",
          "name": "stdout",
          "text": [
            "0.9171863839404697\n"
          ]
        }
      ]
    },
    {
      "cell_type": "code",
      "source": [
        "from sklearn.metrics import precision_score\n",
        "precision = precision_score(y_test,pred,average='micro')\n",
        "print('LG Precision: ',precision)"
      ],
      "metadata": {
        "colab": {
          "base_uri": "https://localhost:8080/"
        },
        "id": "GkgaTm21hMOH",
        "outputId": "fa94f3b9-d474-4476-a26e-f1045e0be5c9"
      },
      "execution_count": null,
      "outputs": [
        {
          "output_type": "stream",
          "name": "stdout",
          "text": [
            "LG Precision:  0.8200232406903978\n"
          ]
        }
      ]
    },
    {
      "cell_type": "code",
      "source": [
        "from sklearn.metrics import recall_score\n",
        "recall = recall_score(y_test, pred,average='weighted')\n",
        "print('LG Recall: ',recall)"
      ],
      "metadata": {
        "colab": {
          "base_uri": "https://localhost:8080/"
        },
        "id": "QwLy-zl9iiOv",
        "outputId": "1a3ede0a-a790-4b85-a2be-d7ec8c3e5767"
      },
      "execution_count": null,
      "outputs": [
        {
          "output_type": "stream",
          "name": "stdout",
          "text": [
            "LG Recall:  0.8200232406903978\n"
          ]
        }
      ]
    },
    {
      "cell_type": "code",
      "source": [
        "from sklearn.metrics import confusion_matrix\n",
        "cm = confusion_matrix(y_test,pred)\n",
        "sns.heatmap(cm,annot=True,fmt='g')\n",
        "plt.ylabel('Prediction',fontsize=13)\n",
        "plt.xlabel('Actual',fontsize=13)\n",
        "plt.title('Confusion Matrix',fontsize=17)\n",
        "plt.show()"
      ],
      "metadata": {
        "colab": {
          "base_uri": "https://localhost:8080/",
          "height": 481
        },
        "id": "1XbaZzGRoLUJ",
        "outputId": "36da2fe7-f5de-4f1f-d511-af31ef5f9e1b"
      },
      "execution_count": null,
      "outputs": [
        {
          "output_type": "display_data",
          "data": {
            "text/plain": [
              "<Figure size 640x480 with 2 Axes>"
            ],
            "image/png": "[encoded data removed]"
          },
          "metadata": {}
        }
      ]
    },
    {
      "cell_type": "markdown",
      "source": [
        "Linear reg"
      ],
      "metadata": {
        "id": "dvoM2wZfhTEH"
      }
    },
    {
      "cell_type": "code",
      "source": [
        "from sklearn.linear_model import LinearRegression\n",
        "lm = LinearRegression()\n",
        "lm.fit(x_train,y_train)\n",
        "pred=lm.predict(x_test)"
      ],
      "metadata": {
        "id": "VTW9rhKkhUhN"
      },
      "execution_count": null,
      "outputs": []
    },
    {
      "cell_type": "code",
      "source": [
        "from sklearn.metrics import mean_squared_error\n",
        "ln_acc=mean_squared_error(y_test, pred)\n",
        "print(ln_acc)"
      ],
      "metadata": {
        "colab": {
          "base_uri": "https://localhost:8080/"
        },
        "id": "eW5HjjhMhXNO",
        "outputId": "37bf1c82-d46b-474a-bc95-5a4ad0091386"
      },
      "execution_count": null,
      "outputs": [
        {
          "output_type": "stream",
          "name": "stdout",
          "text": [
            "0.07393575723403001\n"
          ]
        }
      ]
    },
    {
      "cell_type": "markdown",
      "source": [
        "KNN"
      ],
      "metadata": {
        "id": "pGXA0mdT7Ye5"
      }
    },
    {
      "cell_type": "code",
      "source": [
        "from sklearn.neighbors import KNeighborsClassifier\n",
        "ng=KNeighborsClassifier()\n",
        "ng.fit(x_train,y_train)\n",
        "predictions = ng.predict(x_test)"
      ],
      "metadata": {
        "id": "nwOp2sfA7Vj8"
      },
      "execution_count": null,
      "outputs": []
    },
    {
      "cell_type": "code",
      "source": [
        "from sklearn.metrics import accuracy_score\n",
        "knn_acc=accuracy_score(y_test,predictions)\n",
        "print(knn_acc)"
      ],
      "metadata": {
        "colab": {
          "base_uri": "https://localhost:8080/"
        },
        "id": "lddibi2_7aDn",
        "outputId": "c89dcde7-3358-47aa-f66f-ad8e3820d15e"
      },
      "execution_count": null,
      "outputs": [
        {
          "output_type": "stream",
          "name": "stdout",
          "text": [
            "0.9092653596443535\n"
          ]
        }
      ]
    },
    {
      "cell_type": "markdown",
      "source": [
        "R. F"
      ],
      "metadata": {
        "id": "wGE0HUzq84sz"
      }
    },
    {
      "cell_type": "code",
      "source": [
        "from sklearn.ensemble import RandomForestClassifier\n",
        "model = RandomForestClassifier(n_estimators=100)\n",
        "model.fit(x_train, y_train)\n",
        "predictions = model.predict(x_test)"
      ],
      "metadata": {
        "id": "rgJfs-Vk870J"
      },
      "execution_count": null,
      "outputs": []
    },
    {
      "cell_type": "code",
      "source": [
        "from sklearn.metrics import accuracy_score\n",
        "randf_acc=accuracy_score(y_test,predictions)\n",
        "print(randf_acc)"
      ],
      "metadata": {
        "colab": {
          "base_uri": "https://localhost:8080/"
        },
        "id": "nb7pZBMB8-PE",
        "outputId": "36e41aeb-e5da-4f2e-f282-00e73450fc61"
      },
      "execution_count": null,
      "outputs": [
        {
          "output_type": "stream",
          "name": "stdout",
          "text": [
            "0.9163015319666101\n"
          ]
        }
      ]
    }
  ]
}